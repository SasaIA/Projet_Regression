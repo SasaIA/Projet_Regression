{
 "cells": [
  {
   "cell_type": "markdown",
   "metadata": {},
   "source": [
    "# Scrapping\n",
    "\n",
    "On doit scrappé : \n",
    "- Titre d'emploi, \n",
    "- Le nom de la société, \n",
    "- La localisation, \n",
    "- Type de contrat, \n",
    "- Salaire,\n",
    "- Détail du job,\n",
    "- Temps de travail, \n",
    "- Les critères du candidat: niveau d'études minimum requis, la formation, niveau d'expérience minimum, les langues"
   ]
  },
  {
   "cell_type": "code",
   "execution_count": null,
   "metadata": {},
   "outputs": [],
   "source": []
  }
 ],
 "metadata": {
  "kernelspec": {
   "display_name": "Python 3",
   "language": "python",
   "name": "python3"
  },
  "language_info": {
   "codemirror_mode": {
    "name": "ipython",
    "version": 3
   },
   "file_extension": ".py",
   "mimetype": "text/x-python",
   "name": "python",
   "nbconvert_exporter": "python",
   "pygments_lexer": "ipython3",
   "version": "3.7.4"
  }
 },
 "nbformat": 4,
 "nbformat_minor": 2
}
